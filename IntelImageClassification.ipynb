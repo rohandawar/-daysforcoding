{
  "nbformat": 4,
  "nbformat_minor": 0,
  "metadata": {
    "colab": {
      "provenance": [],
      "authorship_tag": "ABX9TyN4jgubGZQJix0CafvMTGL+",
      "include_colab_link": true
    },
    "kernelspec": {
      "name": "python3",
      "display_name": "Python 3"
    },
    "language_info": {
      "name": "python"
    }
  },
  "cells": [
    {
      "cell_type": "markdown",
      "metadata": {
        "id": "view-in-github",
        "colab_type": "text"
      },
      "source": [
        "<a href=\"https://colab.research.google.com/github/rohandawar/-daysforcoding/blob/main/IntelImageClassification.ipynb\" target=\"_parent\"><img src=\"https://colab.research.google.com/assets/colab-badge.svg\" alt=\"Open In Colab\"/></a>"
      ]
    },
    {
      "cell_type": "code",
      "execution_count": 1,
      "metadata": {
        "id": "OwwOf2hJTvFx"
      },
      "outputs": [],
      "source": [
        "# Import Libs\n",
        "import pandas as pd\n",
        "import numpy as np\n",
        "\n",
        "# PLotting\n",
        "import matplotlib.pyplot as plt\n",
        "from matplotlib.image import imread\n",
        "\n",
        "# Sklearn\n",
        "from sklearn.preprocessing import LabelBinarizer\n",
        "from sklearn.model_selection import train_test_split\n",
        "\n",
        "# PIL\n",
        "from PIL import Image\n",
        "\n",
        "#Keras\n",
        "from keras.preprocessing import image\n",
        "from keras.utils import img_to_array,array_to_img\n",
        "from keras.optimizers import Adam\n",
        "from keras.models import Sequential\n",
        "from keras.layers import Conv2D, MaxPooling2D, Flatten, Dense, Dropout, Activation,LeakyReLU\n",
        "from tensorflow.keras.layers import BatchNormalization\n",
        "\n",
        "\n",
        "from google.colab import drive"
      ]
    },
    {
      "cell_type": "code",
      "source": [
        "#Mount the drive\n",
        "drive.mount('/content/drive')"
      ],
      "metadata": {
        "colab": {
          "base_uri": "https://localhost:8080/"
        },
        "id": "OMTwBF1lWqCr",
        "outputId": "49ed2c04-743e-42d6-c992-5a4b77ab9b74"
      },
      "execution_count": 2,
      "outputs": [
        {
          "output_type": "stream",
          "name": "stdout",
          "text": [
            "Mounted at /content/drive\n"
          ]
        }
      ]
    },
    {
      "cell_type": "code",
      "source": [
        "# Located search the folder for the dataset\n",
        "! ls /content/drive/MyDrive/DataSets/Intel_Image_Dataset/Intel_Image_Dataset"
      ],
      "metadata": {
        "id": "Ek4lpXMUU8oY",
        "colab": {
          "base_uri": "https://localhost:8080/"
        },
        "outputId": "0ce70c81-59fa-406a-b505-13799c06bf2e"
      },
      "execution_count": 9,
      "outputs": [
        {
          "output_type": "stream",
          "name": "stdout",
          "text": [
            "buildings  forest  glacier  mountain  sea  street\n"
          ]
        }
      ]
    },
    {
      "cell_type": "code",
      "source": [],
      "metadata": {
        "id": "qDYNxRHrzCMT"
      },
      "execution_count": null,
      "outputs": []
    }
  ]
}