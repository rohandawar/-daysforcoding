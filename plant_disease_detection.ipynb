{
  "nbformat": 4,
  "nbformat_minor": 0,
  "metadata": {
    "colab": {
      "provenance": [],
      "authorship_tag": "ABX9TyOvpLZZBgUyGVteJfwz4ozN",
      "include_colab_link": true
    },
    "kernelspec": {
      "name": "python3",
      "display_name": "Python 3"
    },
    "language_info": {
      "name": "python"
    }
  },
  "cells": [
    {
      "cell_type": "markdown",
      "metadata": {
        "id": "view-in-github",
        "colab_type": "text"
      },
      "source": [
        "<a href=\"https://colab.research.google.com/github/rohandawar/-daysforcoding/blob/main/plant_disease_detection.ipynb\" target=\"_parent\"><img src=\"https://colab.research.google.com/assets/colab-badge.svg\" alt=\"Open In Colab\"/></a>"
      ]
    },
    {
      "cell_type": "markdown",
      "source": [
        "_In this notebook, I am trying to train a CNN model for predicting the plant disease predictions_"
      ],
      "metadata": {
        "id": "sFHLuBgBgyPK"
      }
    },
    {
      "cell_type": "code",
      "execution_count": 8,
      "metadata": {
        "id": "pkqljDPygvHI"
      },
      "outputs": [],
      "source": [
        "# Import Libs\n",
        "\n",
        "# General\n",
        "import pandas as pd\n",
        "import numpy as np\n",
        "import random\n",
        "import os\n",
        "from os import listdir\n",
        "\n",
        "\n",
        "# PLotting\n",
        "import matplotlib.pyplot as plt\n",
        "from matplotlib.image import imread\n",
        "\n",
        "# cv2\n",
        "import cv2\n",
        "\n",
        "# PIL\n",
        "from PIL import Image\n",
        "\n",
        "# Sklearn\n",
        "from sklearn.preprocessing import label_binarize, LabelBinarizer\n",
        "from sklearn.model_selection import train_test_split\n",
        "\n",
        "# Keras\n",
        "from keras.preprocessing import image\n",
        "from tensorflow.keras.utils import img_to_array, array_to_img\n",
        "from keras.optimizers import Adam\n",
        "from keras.models import Sequential\n",
        "from keras.models import model_from_json\n",
        "from keras.layers import Conv2D, MaxPooling2D\n",
        "from keras.layers import Activation, Flatten, Dropout, Dense\n",
        "from keras.utils import to_categorical\n",
        "\n",
        "\n"
      ]
    },
    {
      "cell_type": "code",
      "source": [],
      "metadata": {
        "id": "KbM9uYaMjCqX"
      },
      "execution_count": null,
      "outputs": []
    }
  ]
}