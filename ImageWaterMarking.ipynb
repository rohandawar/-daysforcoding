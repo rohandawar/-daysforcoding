{
  "nbformat": 4,
  "nbformat_minor": 0,
  "metadata": {
    "colab": {
      "provenance": [],
      "authorship_tag": "ABX9TyMjyg8cqut0qmOMypSayGSw",
      "include_colab_link": true
    },
    "kernelspec": {
      "name": "python3",
      "display_name": "Python 3"
    },
    "language_info": {
      "name": "python"
    }
  },
  "cells": [
    {
      "cell_type": "markdown",
      "metadata": {
        "id": "view-in-github",
        "colab_type": "text"
      },
      "source": [
        "<a href=\"https://colab.research.google.com/github/rohandawar/-daysforcoding/blob/main/ImageWaterMarking.ipynb\" target=\"_parent\"><img src=\"https://colab.research.google.com/assets/colab-badge.svg\" alt=\"Open In Colab\"/></a>"
      ]
    },
    {
      "cell_type": "markdown",
      "source": [
        "In this notebook, we are writing the code for watermaking the images "
      ],
      "metadata": {
        "id": "HYZgtRgvn36v"
      }
    },
    {
      "cell_type": "code",
      "execution_count": 14,
      "metadata": {
        "id": "xXE392wGnzwo"
      },
      "outputs": [],
      "source": [
        "# Import Libs\n",
        "import cv2\n",
        "import numpy as np\n",
        "import requests\n",
        "from PIL import Image"
      ]
    },
    {
      "cell_type": "code",
      "source": [
        "# reading the image from the web\n",
        "image = Image.open(requests.get('https://media.sproutsocial.com/uploads/2017/02/10x-featured-social-media-image-size.png', stream=True).raw)\n",
        "image_logow = image.resize((500,300))\n",
        "image_textw = image.resize((500,300))\n",
        "image_logow"
      ],
      "metadata": {
        "colab": {
          "base_uri": "https://localhost:8080/",
          "height": 317
        },
        "id": "Ar1uv6RLoHDE",
        "outputId": "d3af3992-6da3-4096-bf19-f39c86a5bf22"
      },
      "execution_count": 15,
      "outputs": [
        {
          "output_type": "execute_result",
          "data": {
            "text/plain": [
              "<PIL.Image.Image image mode=RGB size=500x300 at 0x7F11C4869D60>"
            ],
            "image/png": "[encoded data removed]"
          },
          "metadata": {},
          "execution_count": 15
        }
      ]
    },
    {
      "cell_type": "code",
      "source": [
        "# read the logo image\n",
        "logo = Image.open(requests.get('https://pianalytix.com/wp-content/uploads/2020/05/cropped-pianalytiX-full-logo-square-2-209x52.png', stream=True).raw)\n",
        "logo"
      ],
      "metadata": {
        "colab": {
          "base_uri": "https://localhost:8080/",
          "height": 69
        },
        "id": "JOaTJ-K0pCdd",
        "outputId": "cad6e75c-2527-4597-f0d4-9c13a1c6f03f"
      },
      "execution_count": 16,
      "outputs": [
        {
          "output_type": "execute_result",
          "data": {
            "text/plain": [
              "<PIL.PngImagePlugin.PngImageFile image mode=RGBA size=209x52 at 0x7F11972DEA00>"
            ],
            "image/png": "[encoded data removed]"
          },
          "metadata": {},
          "execution_count": 16
        }
      ]
    },
    {
      "cell_type": "code",
      "source": [
        "# convert the image into RGB & save into a numpy array\n",
        "image_logow = np.array(image_logow.convert('RGB')) # this would be exeuted only once, other execution would give error\n",
        "h_image,w_image,_ = image_logow.shape\n",
        "logo = np.array(logo.convert('RGB')) # this would be exeuted only once, other execution would give error\n",
        "h_logo,w_logo,_ = logo.shape"
      ],
      "metadata": {
        "id": "7G1DJEY-pPfI"
      },
      "execution_count": 17,
      "outputs": []
    },
    {
      "cell_type": "code",
      "source": [
        "# Get the center of the original & Its location would be there\n",
        "center_y =  int(h_image/2)\n",
        "center_x =  int(w_image/2)\n",
        "\n",
        "top_y = center_y - int(h_logo/2)\n",
        "left_x = center_x -int(w_logo/2)\n",
        "\n",
        "bottom_y = top_y + h_logo\n",
        "right_x = left_x + w_logo"
      ],
      "metadata": {
        "id": "snXiCCMBpgeX"
      },
      "execution_count": 19,
      "outputs": []
    },
    {
      "cell_type": "code",
      "source": [
        "# Get ROI\n",
        "roi = image_logow[top_y:bottom_y, left_x:right_x]\n",
        "\n",
        "# Add the logo to the ROI\n",
        "result = cv2.addWeighted(roi,1,logo,1,0)\n",
        "\n",
        "# Drawing\n",
        "cv2.line(image_logow,(0,center_y), (left_x, center_y), (0,0,255),1)\n",
        "cv2.line(image_logow,(right_x,center_y), (w_image, center_y), (0,0,255),1)\n",
        "\n",
        "# Replace\n",
        "image_logow[top_y:bottom_y, left_x:right_x] = result"
      ],
      "metadata": {
        "id": "uU8tKii5piXw"
      },
      "execution_count": 27,
      "outputs": []
    },
    {
      "cell_type": "code",
      "source": [
        "# Visulatize it\n",
        "img = Image.fromarray(image_logow,'RGB')\n",
        "img"
      ],
      "metadata": {
        "colab": {
          "base_uri": "https://localhost:8080/",
          "height": 317
        },
        "id": "47G9sfAirvLG",
        "outputId": "c787edb0-891e-467f-af8c-dcb46cce7eb6"
      },
      "execution_count": 28,
      "outputs": [
        {
          "output_type": "execute_result",
          "data": {
            "text/plain": [
              "<PIL.Image.Image image mode=RGB size=500x300 at 0x7F11973CB850>"
            ],
            "image/png": "[encoded data removed]"
          },
          "metadata": {},
          "execution_count": 28
        }
      ]
    },
    {
      "cell_type": "code",
      "source": [
        "# Text Watermark\n",
        "image_text = np.array(image_textw.convert('RGB'))\n",
        "cv2.putText(image_text, text='AddedTeXt', org=(w_image-95, h_image-10), fontFace=cv2.FONT_HERSHEY_COMPLEX,\n",
        "            fontScale=0.5,color=(0,0,255),\n",
        "            thickness=2,lineType=cv2.LINE_4)"
      ],
      "metadata": {
        "colab": {
          "base_uri": "https://localhost:8080/"
        },
        "id": "d6KTJGxNrwBM",
        "outputId": "f185fd21-80a4-41ad-a242-381b4646ea0f"
      },
      "execution_count": 29,
      "outputs": [
        {
          "output_type": "execute_result",
          "data": {
            "text/plain": [
              "array([[[ 43, 182,  86],\n",
              "        [ 43, 182,  86],\n",
              "        [ 43, 182,  86],\n",
              "        ...,\n",
              "        [ 43, 182,  86],\n",
              "        [ 43, 182,  86],\n",
              "        [ 43, 182,  86]],\n",
              "\n",
              "       [[ 43, 182,  86],\n",
              "        [ 43, 182,  86],\n",
              "        [ 43, 182,  86],\n",
              "        ...,\n",
              "        [ 43, 182,  86],\n",
              "        [ 43, 182,  86],\n",
              "        [ 43, 182,  86]],\n",
              "\n",
              "       [[ 43, 182,  86],\n",
              "        [ 43, 182,  86],\n",
              "        [ 43, 182,  86],\n",
              "        ...,\n",
              "        [ 43, 182,  86],\n",
              "        [ 43, 182,  86],\n",
              "        [ 43, 182,  86]],\n",
              "\n",
              "       ...,\n",
              "\n",
              "       [[ 43, 182,  86],\n",
              "        [ 43, 182,  86],\n",
              "        [ 44, 183,  86],\n",
              "        ...,\n",
              "        [ 44, 182,  86],\n",
              "        [ 43, 182,  86],\n",
              "        [ 43, 182,  86]],\n",
              "\n",
              "       [[ 43, 182,  86],\n",
              "        [ 43, 182,  86],\n",
              "        [ 42, 181,  86],\n",
              "        ...,\n",
              "        [ 29, 175,  83],\n",
              "        [ 44, 182,  86],\n",
              "        [ 43, 182,  86]],\n",
              "\n",
              "       [[ 43, 182,  86],\n",
              "        [ 43, 182,  86],\n",
              "        [ 23, 162,  86],\n",
              "        ...,\n",
              "        [ 14, 168,  80],\n",
              "        [ 36, 178,  85],\n",
              "        [ 44, 182,  86]]], dtype=uint8)"
            ]
          },
          "metadata": {},
          "execution_count": 29
        }
      ]
    },
    {
      "cell_type": "code",
      "source": [
        "# Plotting the watermark IMage\n",
        "timg = Image.fromarray(image_text,'RGB')\n",
        "timg"
      ],
      "metadata": {
        "colab": {
          "base_uri": "https://localhost:8080/",
          "height": 317
        },
        "id": "EZi1-NeOtUXA",
        "outputId": "816e874f-bb55-42d8-c0bf-86fb4088f76f"
      },
      "execution_count": 30,
      "outputs": [
        {
          "output_type": "execute_result",
          "data": {
            "text/plain": [
              "<PIL.Image.Image image mode=RGB size=500x300 at 0x7F1197415460>"
            ],
            "image/png": "[encoded data removed]"
          },
          "metadata": {},
          "execution_count": 30
        }
      ]
    },
    {
      "cell_type": "code",
      "source": [],
      "metadata": {
        "id": "VPxBEdiitewH"
      },
      "execution_count": null,
      "outputs": []
    }
  ]
}