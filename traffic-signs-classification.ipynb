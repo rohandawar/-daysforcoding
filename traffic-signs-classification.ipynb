{
 "cells": [
  {
   "cell_type": "markdown",
   "id": "933361e4",
   "metadata": {
    "papermill": {
     "duration": 0.002758,
     "end_time": "2023-04-20T11:59:13.713553",
     "exception": false,
     "start_time": "2023-04-20T11:59:13.710795",
     "status": "completed"
    },
    "tags": []
   },
   "source": [
    "In this notebook, we are trying to classify the images for traffic signs into one of the classes"
   ]
  },
  {
   "cell_type": "code",
   "execution_count": 1,
   "id": "0882239e",
   "metadata": {
    "execution": {
     "iopub.execute_input": "2023-04-20T11:59:13.719208Z",
     "iopub.status.busy": "2023-04-20T11:59:13.718765Z",
     "iopub.status.idle": "2023-04-20T11:59:23.677417Z",
     "shell.execute_reply": "2023-04-20T11:59:23.676014Z"
    },
    "papermill": {
     "duration": 9.964871,
     "end_time": "2023-04-20T11:59:23.680468",
     "exception": false,
     "start_time": "2023-04-20T11:59:13.715597",
     "status": "completed"
    },
    "tags": []
   },
   "outputs": [],
   "source": [
    "# Import Libs\n",
    "import os\n",
    "import pandas as pd\n",
    "import numpy as np\n",
    "import matplotlib.pyplot as plt\n",
    "from matplotlib.image import imread\n",
    "import seaborn as sns\n",
    "import random\n",
    "from PIL import Image\n",
    "from sklearn.model_selection import train_test_split\n",
    "from tensorflow.keras.utils import to_categorical\n",
    "import tensorflow as tf\n",
    "from tensorflow.keras.models import Sequential\n",
    "from tensorflow.keras.layers import Dense, Flatten, Dropout,Conv2D, MaxPool2D"
   ]
  },
  {
   "cell_type": "code",
   "execution_count": null,
   "id": "10e7ac4c",
   "metadata": {
    "papermill": {
     "duration": 0.001451,
     "end_time": "2023-04-20T11:59:23.683848",
     "exception": false,
     "start_time": "2023-04-20T11:59:23.682397",
     "status": "completed"
    },
    "tags": []
   },
   "outputs": [],
   "source": []
  }
 ],
 "metadata": {
  "kernelspec": {
   "display_name": "Python 3",
   "language": "python",
   "name": "python3"
  },
  "language_info": {
   "codemirror_mode": {
    "name": "ipython",
    "version": 3
   },
   "file_extension": ".py",
   "mimetype": "text/x-python",
   "name": "python",
   "nbconvert_exporter": "python",
   "pygments_lexer": "ipython3",
   "version": "3.7.12"
  },
  "papermill": {
   "default_parameters": {},
   "duration": 23.707446,
   "end_time": "2023-04-20T11:59:27.235592",
   "environment_variables": {},
   "exception": null,
   "input_path": "__notebook__.ipynb",
   "output_path": "__notebook__.ipynb",
   "parameters": {},
   "start_time": "2023-04-20T11:59:03.528146",
   "version": "2.4.0"
  }
 },
 "nbformat": 4,
 "nbformat_minor": 5
}
