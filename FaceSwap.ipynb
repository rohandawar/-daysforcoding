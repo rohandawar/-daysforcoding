{
  "nbformat": 4,
  "nbformat_minor": 0,
  "metadata": {
    "colab": {
      "provenance": [],
      "authorship_tag": "ABX9TyPvDcjHryP2aoP/6Fb8BXps",
      "include_colab_link": true
    },
    "kernelspec": {
      "name": "python3",
      "display_name": "Python 3"
    },
    "language_info": {
      "name": "python"
    }
  },
  "cells": [
    {
      "cell_type": "markdown",
      "metadata": {
        "id": "view-in-github",
        "colab_type": "text"
      },
      "source": [
        "<a href=\"https://colab.research.google.com/github/rohandawar/-daysforcoding/blob/main/FaceSwap.ipynb\" target=\"_parent\"><img src=\"https://colab.research.google.com/assets/colab-badge.svg\" alt=\"Open In Colab\"/></a>"
      ]
    },
    {
      "cell_type": "markdown",
      "source": [
        "In this notebook, I am wriring a code for FaceSwap-- this is a WIP"
      ],
      "metadata": {
        "id": "GQXaoYI-Zvc-"
      }
    },
    {
      "cell_type": "code",
      "execution_count": 1,
      "metadata": {
        "id": "4Y83tvZaZUO2"
      },
      "outputs": [],
      "source": [
        "#Import Libs\n",
        "import cv2\n",
        "import numpy as np\n",
        "import dlib\n",
        "import requests\n",
        "from PIL import Image"
      ]
    },
    {
      "cell_type": "code",
      "source": [],
      "metadata": {
        "id": "r1JRoxxVZ9RZ"
      },
      "execution_count": null,
      "outputs": []
    }
  ]
}